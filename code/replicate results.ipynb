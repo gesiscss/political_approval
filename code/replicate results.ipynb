{
 "cells": [
  {
   "cell_type": "code",
   "execution_count": 1,
   "metadata": {
    "collapsed": false
   },
   "outputs": [],
   "source": [
    "import pandas as pd\n",
    "from sklearn.metrics import classification_report"
   ]
  },
  {
   "cell_type": "code",
   "execution_count": 2,
   "metadata": {
    "collapsed": false
   },
   "outputs": [
    {
     "data": {
      "text/html": [
       "<div>\n",
       "<style scoped>\n",
       "    .dataframe tbody tr th:only-of-type {\n",
       "        vertical-align: middle;\n",
       "    }\n",
       "\n",
       "    .dataframe tbody tr th {\n",
       "        vertical-align: top;\n",
       "    }\n",
       "\n",
       "    .dataframe thead th {\n",
       "        text-align: right;\n",
       "    }\n",
       "</style>\n",
       "<table border=\"1\" class=\"dataframe\">\n",
       "  <thead>\n",
       "    <tr style=\"text-align: right;\">\n",
       "      <th></th>\n",
       "      <th>ID</th>\n",
       "      <th>Target</th>\n",
       "      <th>Stance</th>\n",
       "      <th>Dataset</th>\n",
       "    </tr>\n",
       "  </thead>\n",
       "  <tbody>\n",
       "    <tr>\n",
       "      <th>0</th>\n",
       "      <td>0</td>\n",
       "      <td>Hillary Clinton</td>\n",
       "      <td>AGAINST</td>\n",
       "      <td>sea</td>\n",
       "    </tr>\n",
       "    <tr>\n",
       "      <th>1</th>\n",
       "      <td>1</td>\n",
       "      <td>Hillary Clinton</td>\n",
       "      <td>AGAINST</td>\n",
       "      <td>sea</td>\n",
       "    </tr>\n",
       "    <tr>\n",
       "      <th>2</th>\n",
       "      <td>2</td>\n",
       "      <td>Hillary Clinton</td>\n",
       "      <td>AGAINST</td>\n",
       "      <td>sea</td>\n",
       "    </tr>\n",
       "    <tr>\n",
       "      <th>3</th>\n",
       "      <td>3</td>\n",
       "      <td>Hillary Clinton</td>\n",
       "      <td>AGAINST</td>\n",
       "      <td>sea</td>\n",
       "    </tr>\n",
       "    <tr>\n",
       "      <th>4</th>\n",
       "      <td>4</td>\n",
       "      <td>Hillary Clinton</td>\n",
       "      <td>AGAINST</td>\n",
       "      <td>sea</td>\n",
       "    </tr>\n",
       "  </tbody>\n",
       "</table>\n",
       "</div>"
      ],
      "text/plain": [
       "   ID           Target   Stance Dataset\n",
       "0   0  Hillary Clinton  AGAINST     sea\n",
       "1   1  Hillary Clinton  AGAINST     sea\n",
       "2   2  Hillary Clinton  AGAINST     sea\n",
       "3   3  Hillary Clinton  AGAINST     sea\n",
       "4   4  Hillary Clinton  AGAINST     sea"
      ]
     },
     "execution_count": 2,
     "metadata": {},
     "output_type": "execute_result"
    }
   ],
   "source": [
    "data = pd.read_csv(\"../data/all_data_no_tweet_text.csv\", sep = \"\\t\")\n",
    "data = data[data['Dataset'].isin(['mtsd', 'constance', 'semevala', 'semevalb', 'presidents'])]\n",
    "datasets_map = {'mtsd' : 'mtsd', 'constance' : 'cons', 'semevala' : 'sea', 'semevalb' : 'seb', 'presidents' : 'pres'}\n",
    "methods_map = {'Majority (Target)' : 'majority-target',\n",
    "               'Majority (Dataset)': 'majority-dataset',\n",
    "               'SVM-SD' : 'SVM-SD (ST)',\n",
    "               'SentiTreeBank': 'STB (UTS)',\n",
    "               'Sentistrength': 'STS (UTS)',\n",
    "               'MPQA' : 'MPQA (UTS)',\n",
    "               'Random': 'random',\n",
    "               'In-domain (BERT)' : 'BERT (custom)',\n",
    "               'VADER' : 'VADER (UTS)',\n",
    "               'LabMT' : 'LabMT (UTS)',\n",
    "               'TD-LSTM' : 'TD-LSTM (TS)',\n",
    "               'In-domain (SVM)' : 'SVM (custom)',\n",
    "               'In-domain (MNB)' : 'MNB (custom)',\n",
    "               'DSSD' : 'DSSD (ST)',\n",
    "               'In-domain (LR)' : 'LR (custom)'}\n",
    "\n",
    "data['Dataset'] = data['Dataset'].map(datasets_map)\n",
    "data.head()"
   ]
  },
  {
   "cell_type": "code",
   "execution_count": 3,
   "metadata": {
    "collapsed": false
   },
   "outputs": [
    {
     "data": {
      "text/plain": [
       "array(['Hillary Clinton', 'Donald Trump', 'Vladimir Putin', 'Joko Widodo',\n",
       "       'Emmanuel Macron', 'Jacob Zuma', 'Recep Tayyip Erdoğan'],\n",
       "      dtype=object)"
      ]
     },
     "execution_count": 3,
     "metadata": {},
     "output_type": "execute_result"
    }
   ],
   "source": [
    "data['Target'].unique()"
   ]
  },
  {
   "cell_type": "code",
   "execution_count": 4,
   "metadata": {
    "collapsed": false
   },
   "outputs": [
    {
     "data": {
      "text/html": [
       "<div>\n",
       "<style scoped>\n",
       "    .dataframe tbody tr th:only-of-type {\n",
       "        vertical-align: middle;\n",
       "    }\n",
       "\n",
       "    .dataframe tbody tr th {\n",
       "        vertical-align: top;\n",
       "    }\n",
       "\n",
       "    .dataframe thead th {\n",
       "        text-align: right;\n",
       "    }\n",
       "</style>\n",
       "<table border=\"1\" class=\"dataframe\">\n",
       "  <thead>\n",
       "    <tr style=\"text-align: right;\">\n",
       "      <th></th>\n",
       "      <th>ID</th>\n",
       "      <th>Target</th>\n",
       "      <th>Stance</th>\n",
       "      <th>Dataset</th>\n",
       "    </tr>\n",
       "  </thead>\n",
       "  <tbody>\n",
       "    <tr>\n",
       "      <th>0</th>\n",
       "      <td>0</td>\n",
       "      <td>Hillary Clinton</td>\n",
       "      <td>AGAINST</td>\n",
       "      <td>sea</td>\n",
       "    </tr>\n",
       "    <tr>\n",
       "      <th>1</th>\n",
       "      <td>1</td>\n",
       "      <td>Hillary Clinton</td>\n",
       "      <td>AGAINST</td>\n",
       "      <td>sea</td>\n",
       "    </tr>\n",
       "    <tr>\n",
       "      <th>2</th>\n",
       "      <td>2</td>\n",
       "      <td>Hillary Clinton</td>\n",
       "      <td>AGAINST</td>\n",
       "      <td>sea</td>\n",
       "    </tr>\n",
       "    <tr>\n",
       "      <th>3</th>\n",
       "      <td>3</td>\n",
       "      <td>Hillary Clinton</td>\n",
       "      <td>AGAINST</td>\n",
       "      <td>sea</td>\n",
       "    </tr>\n",
       "    <tr>\n",
       "      <th>4</th>\n",
       "      <td>4</td>\n",
       "      <td>Hillary Clinton</td>\n",
       "      <td>AGAINST</td>\n",
       "      <td>sea</td>\n",
       "    </tr>\n",
       "  </tbody>\n",
       "</table>\n",
       "</div>"
      ],
      "text/plain": [
       "   ID           Target   Stance Dataset\n",
       "0   0  Hillary Clinton  AGAINST     sea\n",
       "1   1  Hillary Clinton  AGAINST     sea\n",
       "2   2  Hillary Clinton  AGAINST     sea\n",
       "3   3  Hillary Clinton  AGAINST     sea\n",
       "4   4  Hillary Clinton  AGAINST     sea"
      ]
     },
     "execution_count": 4,
     "metadata": {},
     "output_type": "execute_result"
    }
   ],
   "source": [
    "data.head()"
   ]
  },
  {
   "cell_type": "code",
   "execution_count": 5,
   "metadata": {
    "collapsed": false
   },
   "outputs": [
    {
     "data": {
      "text/plain": [
       "Index(['ID', 'Target', 'Stance', 'Dataset'], dtype='object')"
      ]
     },
     "execution_count": 5,
     "metadata": {},
     "output_type": "execute_result"
    }
   ],
   "source": [
    "data.columns"
   ]
  },
  {
   "cell_type": "code",
   "execution_count": 6,
   "metadata": {
    "collapsed": false
   },
   "outputs": [],
   "source": [
    "# need tweets to run this\n",
    "# df = data.groupby(['Target', 'Dataset',  'Direct_Stance', 'Stance']).size().unstack().unstack()\n",
    "# df['Total'] = df.sum(axis = 1)\n",
    "# df\n"
   ]
  },
  {
   "cell_type": "code",
   "execution_count": 7,
   "metadata": {
    "collapsed": false
   },
   "outputs": [],
   "source": [
    "# print(df.to_latex())"
   ]
  },
  {
   "cell_type": "markdown",
   "metadata": {},
   "source": [
    "### Baselines: majority and random"
   ]
  },
  {
   "cell_type": "code",
   "execution_count": 8,
   "metadata": {
    "collapsed": false
   },
   "outputs": [],
   "source": [
    "# find majority group in each dataset\n",
    "import operator\n",
    "import random\n",
    "\n",
    "def baselines(data):\n",
    "    dataset_majority = {}\n",
    "    data_by_dataset = data.groupby('Dataset')\n",
    "    for i in data.Dataset.unique():\n",
    "        datax = data_by_dataset.get_group(i)\n",
    "        datasize = datax.groupby('Stance').size()\n",
    "#     print(i)\n",
    "#     print(datasize)\n",
    "        dataset_majority[i] = max(datasize.iteritems(), key = operator.itemgetter(1))[0]\n",
    "    \n",
    "    \n",
    "    target_majority = {}\n",
    "    data_by_target = data.groupby('Target')\n",
    "    for i in data.Target.unique():\n",
    "        datax = data_by_target.get_group(i)\n",
    "        datasize = datax.groupby('Stance').size()\n",
    "#     print(i)\n",
    "#     print(datasize)\n",
    "        target_majority[i] = max(datasize.iteritems(), key = operator.itemgetter(1))[0]    \n",
    "    \n",
    "    data['Majority (Dataset)']    = [dataset_majority[row['Dataset']] for n, row in data.iterrows()]\n",
    "    data['Majority (Target)']    = [target_majority[row['Target']] for n, row in data.iterrows()]\n",
    "    data['Random'] = [random.choice(['AGAINST', 'FAVOR', 'NONE']) for i in range(len(data))]\n",
    "    \n",
    "    return data"
   ]
  },
  {
   "cell_type": "markdown",
   "metadata": {},
   "source": [
    "### Get results"
   ]
  },
  {
   "cell_type": "code",
   "execution_count": 9,
   "metadata": {
    "collapsed": false
   },
   "outputs": [],
   "source": [
    "from util import get_results"
   ]
  },
  {
   "cell_type": "code",
   "execution_count": 10,
   "metadata": {
    "collapsed": false
   },
   "outputs": [],
   "source": [
    "import os"
   ]
  },
  {
   "cell_type": "code",
   "execution_count": 12,
   "metadata": {
    "collapsed": false
   },
   "outputs": [
    {
     "name": "stdout",
     "output_type": "stream",
     "text": [
      "Hillary Clinton\n"
     ]
    },
    {
     "name": "stderr",
     "output_type": "stream",
     "text": [
      "/bigdata/sexism/sexist_code_icwsm20/icwsm20/lib/python3.5/site-packages/sklearn/metrics/classification.py:1143: UndefinedMetricWarning: Precision and F-score are ill-defined and being set to 0.0 in labels with no predicted samples.\n",
      "  'precision', 'predicted', average, warn_for)\n",
      "/bigdata/sexism/sexist_code_icwsm20/icwsm20/lib/python3.5/site-packages/sklearn/metrics/classification.py:1143: UndefinedMetricWarning: F-score is ill-defined and being set to 0.0 in labels with no predicted samples.\n",
      "  'precision', 'predicted', average, warn_for)\n"
     ]
    },
    {
     "name": "stdout",
     "output_type": "stream",
     "text": [
      "Donald Trump\n",
      "Vladimir Putin\n",
      "Joko Widodo\n",
      "Emmanuel Macron\n",
      "Jacob Zuma\n",
      "Recep Tayyip Erdoğan\n",
      "Hillary Clinton\n",
      "Donald Trump\n",
      "Vladimir Putin\n",
      "Joko Widodo\n",
      "Emmanuel Macron\n",
      "Jacob Zuma\n",
      "Recep Tayyip Erdoğan\n",
      "Hillary Clinton\n",
      "Donald Trump\n",
      "Vladimir Putin\n",
      "Joko Widodo\n",
      "Emmanuel Macron\n",
      "Jacob Zuma\n",
      "Recep Tayyip Erdoğan\n",
      "Hillary Clinton\n",
      "Donald Trump\n",
      "Vladimir Putin\n",
      "Joko Widodo\n",
      "Emmanuel Macron\n",
      "Jacob Zuma\n",
      "Recep Tayyip Erdoğan\n",
      "Hillary Clinton\n",
      "Donald Trump\n",
      "Vladimir Putin\n",
      "Joko Widodo\n",
      "Emmanuel Macron\n",
      "Jacob Zuma\n",
      "Recep Tayyip Erdoğan\n"
     ]
    }
   ],
   "source": [
    "in_domain_results = {}\n",
    "from functools import reduce\n",
    "\n",
    "\n",
    "mega_all_results = []\n",
    "mega_all_dataset_results = []\n",
    "runs = 5\n",
    "for i in range(runs):\n",
    "    data = pd.read_csv(\"../outputs/all_test_%d_results.csv\" %(i), sep = \"\\t\")\n",
    "    # data['Direct_Stance'] = [directed(row['Tweet'], row['Target']) for n, row in data.iterrows()]\n",
    "    data = baselines(data)\n",
    "    \n",
    "    in_domain_results = {}\n",
    "    all_results= {}\n",
    "    for model in data['Target'].unique():\n",
    "        print(model)\n",
    "        temp = data[data['Target'] == model]\n",
    "        results = []\n",
    "        dataset_results = []\n",
    "        methodx = list(temp.columns[6:].values) # only keep method columns\n",
    "        for method in methodx:\n",
    "            if \"_\" in method:\n",
    "                method_holder = method[:-2]\n",
    "            else:\n",
    "                method_holder = method\n",
    "            for dataset in temp['Dataset'].unique():\n",
    "                temp_ = temp[temp['Dataset'] == dataset]\n",
    "                dataset_results.append(get_results(classification_report(temp_['Stance'], \n",
    "                                                                     temp_[method], \n",
    "                                                                     output_dict=True), \n",
    "                                               y_true = temp_['Stance'],\n",
    "                                               y_pred = temp_[method], \n",
    "                                               method = method_holder,\n",
    "                                               dataset = dataset,\n",
    "                                               target = model,\n",
    "                                               ))\n",
    "            results.append(get_results(classification_report(temp['Stance'], \n",
    "                                                                     temp[method], \n",
    "                                                                     output_dict=True), \n",
    "                                               y_true = temp['Stance'],\n",
    "                                               y_pred = temp[method], \n",
    "                                               method = method_holder,\n",
    "                                               dataset = 'all',\n",
    "                                               target = model,\n",
    "                                               ))\n",
    "                    \n",
    "        all_results[model] = dataset_results\n",
    "        mega_all_dataset_results.extend(all_results[model])\n",
    "        mega_all_results.extend(results)"
   ]
  },
  {
   "cell_type": "code",
   "execution_count": 13,
   "metadata": {
    "collapsed": true
   },
   "outputs": [],
   "source": [
    "all_runs_results = pd.DataFrame(mega_all_dataset_results)        "
   ]
  },
  {
   "cell_type": "markdown",
   "metadata": {},
   "source": [
    "### Results for all datasets for Trump (Table 5)"
   ]
  },
  {
   "cell_type": "code",
   "execution_count": 14,
   "metadata": {
    "collapsed": true
   },
   "outputs": [],
   "source": [
    "import numpy as np\n",
    "import math"
   ]
  },
  {
   "cell_type": "code",
   "execution_count": 15,
   "metadata": {
    "collapsed": true
   },
   "outputs": [],
   "source": [
    "def highlight_max(s, red = False):\n",
    "    is_max = s == s.max()\n",
    "    if red:\n",
    "            return ['font-color: red' if v else '' for v in is_max]\n",
    "    return ['font-weight: bold' if v else '' for v in is_max]\n",
    "\n",
    "def highlight_max_red(s):\n",
    "    is_max = s == s.max()\n",
    "    return ['color: red' if v else '' for v in is_max]\n",
    "\n",
    "def highlight_min(s):\n",
    "    is_max = s == s.min()\n",
    "    return ['font-weight: bold' if v else '' for v in is_max]"
   ]
  },
  {
   "cell_type": "code",
   "execution_count": 16,
   "metadata": {
    "collapsed": false
   },
   "outputs": [
    {
     "name": "stderr",
     "output_type": "stream",
     "text": [
      "/bigdata/sexism/sexist_code_icwsm20/icwsm20/lib/python3.5/site-packages/ipykernel_launcher.py:4: SettingWithCopyWarning: \n",
      "A value is trying to be set on a copy of a slice from a DataFrame.\n",
      "Try using .loc[row_indexer,col_indexer] = value instead\n",
      "\n",
      "See the caveats in the documentation: http://pandas.pydata.org/pandas-docs/stable/indexing.html#indexing-view-versus-copy\n",
      "  after removing the cwd from sys.path.\n",
      "/bigdata/sexism/sexist_code_icwsm20/icwsm20/lib/python3.5/site-packages/ipykernel_launcher.py:12: SettingWithCopyWarning: \n",
      "A value is trying to be set on a copy of a slice from a DataFrame.\n",
      "Try using .loc[row_indexer,col_indexer] = value instead\n",
      "\n",
      "See the caveats in the documentation: http://pandas.pydata.org/pandas-docs/stable/indexing.html#indexing-view-versus-copy\n",
      "  if sys.path[0] == '':\n",
      "/bigdata/sexism/sexist_code_icwsm20/icwsm20/lib/python3.5/site-packages/pandas/core/indexing.py:1494: FutureWarning: \n",
      "Passing list-likes to .loc or [] with any missing label will raise\n",
      "KeyError in the future, you can use .reindex() as an alternative.\n",
      "\n",
      "See the documentation here:\n",
      "https://pandas.pydata.org/pandas-docs/stable/indexing.html#deprecate-loc-reindex-listlike\n",
      "  return self._getitem_tuple(key)\n"
     ]
    },
    {
     "data": {
      "text/html": [
       "<style  type=\"text/css\" >\n",
       "    #T_0412cca6_276c_11eb_a974_b083fed64862row6_col3 {\n",
       "            font-weight:  bold;\n",
       "        }    #T_0412cca6_276c_11eb_a974_b083fed64862row7_col1 {\n",
       "            font-weight:  bold;\n",
       "        }    #T_0412cca6_276c_11eb_a974_b083fed64862row9_col4 {\n",
       "            font-weight:  bold;\n",
       "        }    #T_0412cca6_276c_11eb_a974_b083fed64862row9_col6 {\n",
       "            color:  red;\n",
       "        }    #T_0412cca6_276c_11eb_a974_b083fed64862row10_col2 {\n",
       "            font-weight:  bold;\n",
       "        }</style><table id=\"T_0412cca6_276c_11eb_a974_b083fed64862\" ><thead>    <tr>        <th class=\"index_name level0\" >Dataset</th>        <th class=\"col_heading level0 col0\" >Method</th>        <th class=\"col_heading level0 col1\" >CONSTANCE</th>        <th class=\"col_heading level0 col2\" >MTSD</th>        <th class=\"col_heading level0 col3\" >PRESIDENTS</th>        <th class=\"col_heading level0 col4\" >SEMEVALB</th>        <th class=\"col_heading level0 col5\" >Mean F1</th>        <th class=\"col_heading level0 col6\" >Std</th>        <th class=\"col_heading level0 col7\" >95% CI (high)</th>        <th class=\"col_heading level0 col8\" >95% CI (low)</th>    </tr></thead><tbody>\n",
       "                <tr>\n",
       "                        <th id=\"T_0412cca6_276c_11eb_a974_b083fed64862level0_row0\" class=\"row_heading level0 row0\" >0</th>\n",
       "                        <td id=\"T_0412cca6_276c_11eb_a974_b083fed64862row0_col0\" class=\"data row0 col0\" >Majority (Target)</td>\n",
       "                        <td id=\"T_0412cca6_276c_11eb_a974_b083fed64862row0_col1\" class=\"data row0 col1\" >27.86</td>\n",
       "                        <td id=\"T_0412cca6_276c_11eb_a974_b083fed64862row0_col2\" class=\"data row0 col2\" >15.36</td>\n",
       "                        <td id=\"T_0412cca6_276c_11eb_a974_b083fed64862row0_col3\" class=\"data row0 col3\" >25.48</td>\n",
       "                        <td id=\"T_0412cca6_276c_11eb_a974_b083fed64862row0_col4\" class=\"data row0 col4\" >19.81</td>\n",
       "                        <td id=\"T_0412cca6_276c_11eb_a974_b083fed64862row0_col5\" class=\"data row0 col5\" >22.13</td>\n",
       "                        <td id=\"T_0412cca6_276c_11eb_a974_b083fed64862row0_col6\" class=\"data row0 col6\" >4.88</td>\n",
       "                        <td id=\"T_0412cca6_276c_11eb_a974_b083fed64862row0_col7\" class=\"data row0 col7\" >31.7</td>\n",
       "                        <td id=\"T_0412cca6_276c_11eb_a974_b083fed64862row0_col8\" class=\"data row0 col8\" >12.56</td>\n",
       "            </tr>\n",
       "            <tr>\n",
       "                        <th id=\"T_0412cca6_276c_11eb_a974_b083fed64862level0_row1\" class=\"row_heading level0 row1\" >1</th>\n",
       "                        <td id=\"T_0412cca6_276c_11eb_a974_b083fed64862row1_col0\" class=\"data row1 col0\" >Majority (Dataset)</td>\n",
       "                        <td id=\"T_0412cca6_276c_11eb_a974_b083fed64862row1_col1\" class=\"data row1 col1\" >27.86</td>\n",
       "                        <td id=\"T_0412cca6_276c_11eb_a974_b083fed64862row1_col2\" class=\"data row1 col2\" >21.56</td>\n",
       "                        <td id=\"T_0412cca6_276c_11eb_a974_b083fed64862row1_col3\" class=\"data row1 col3\" >25.48</td>\n",
       "                        <td id=\"T_0412cca6_276c_11eb_a974_b083fed64862row1_col4\" class=\"data row1 col4\" >19.81</td>\n",
       "                        <td id=\"T_0412cca6_276c_11eb_a974_b083fed64862row1_col5\" class=\"data row1 col5\" >23.68</td>\n",
       "                        <td id=\"T_0412cca6_276c_11eb_a974_b083fed64862row1_col6\" class=\"data row1 col6\" >3.17</td>\n",
       "                        <td id=\"T_0412cca6_276c_11eb_a974_b083fed64862row1_col7\" class=\"data row1 col7\" >29.89</td>\n",
       "                        <td id=\"T_0412cca6_276c_11eb_a974_b083fed64862row1_col8\" class=\"data row1 col8\" >17.47</td>\n",
       "            </tr>\n",
       "            <tr>\n",
       "                        <th id=\"T_0412cca6_276c_11eb_a974_b083fed64862level0_row2\" class=\"row_heading level0 row2\" >2</th>\n",
       "                        <td id=\"T_0412cca6_276c_11eb_a974_b083fed64862row2_col0\" class=\"data row2 col0\" >Random</td>\n",
       "                        <td id=\"T_0412cca6_276c_11eb_a974_b083fed64862row2_col1\" class=\"data row2 col1\" >24.18</td>\n",
       "                        <td id=\"T_0412cca6_276c_11eb_a974_b083fed64862row2_col2\" class=\"data row2 col2\" >32.57</td>\n",
       "                        <td id=\"T_0412cca6_276c_11eb_a974_b083fed64862row2_col3\" class=\"data row2 col3\" >29.44</td>\n",
       "                        <td id=\"T_0412cca6_276c_11eb_a974_b083fed64862row2_col4\" class=\"data row2 col4\" >31.7</td>\n",
       "                        <td id=\"T_0412cca6_276c_11eb_a974_b083fed64862row2_col5\" class=\"data row2 col5\" >29.47</td>\n",
       "                        <td id=\"T_0412cca6_276c_11eb_a974_b083fed64862row2_col6\" class=\"data row2 col6\" >3.26</td>\n",
       "                        <td id=\"T_0412cca6_276c_11eb_a974_b083fed64862row2_col7\" class=\"data row2 col7\" >35.87</td>\n",
       "                        <td id=\"T_0412cca6_276c_11eb_a974_b083fed64862row2_col8\" class=\"data row2 col8\" >23.08</td>\n",
       "            </tr>\n",
       "            <tr>\n",
       "                        <th id=\"T_0412cca6_276c_11eb_a974_b083fed64862level0_row3\" class=\"row_heading level0 row3\" >3</th>\n",
       "                        <td id=\"T_0412cca6_276c_11eb_a974_b083fed64862row3_col0\" class=\"data row3 col0\" >MPQA</td>\n",
       "                        <td id=\"T_0412cca6_276c_11eb_a974_b083fed64862row3_col1\" class=\"data row3 col1\" >23.57</td>\n",
       "                        <td id=\"T_0412cca6_276c_11eb_a974_b083fed64862row3_col2\" class=\"data row3 col2\" >33.93</td>\n",
       "                        <td id=\"T_0412cca6_276c_11eb_a974_b083fed64862row3_col3\" class=\"data row3 col3\" >27.94</td>\n",
       "                        <td id=\"T_0412cca6_276c_11eb_a974_b083fed64862row3_col4\" class=\"data row3 col4\" >38.17</td>\n",
       "                        <td id=\"T_0412cca6_276c_11eb_a974_b083fed64862row3_col5\" class=\"data row3 col5\" >30.9</td>\n",
       "                        <td id=\"T_0412cca6_276c_11eb_a974_b083fed64862row3_col6\" class=\"data row3 col6\" >5.58</td>\n",
       "                        <td id=\"T_0412cca6_276c_11eb_a974_b083fed64862row3_col7\" class=\"data row3 col7\" >41.84</td>\n",
       "                        <td id=\"T_0412cca6_276c_11eb_a974_b083fed64862row3_col8\" class=\"data row3 col8\" >19.97</td>\n",
       "            </tr>\n",
       "            <tr>\n",
       "                        <th id=\"T_0412cca6_276c_11eb_a974_b083fed64862level0_row4\" class=\"row_heading level0 row4\" >4</th>\n",
       "                        <td id=\"T_0412cca6_276c_11eb_a974_b083fed64862row4_col0\" class=\"data row4 col0\" >LabMT</td>\n",
       "                        <td id=\"T_0412cca6_276c_11eb_a974_b083fed64862row4_col1\" class=\"data row4 col1\" >28.75</td>\n",
       "                        <td id=\"T_0412cca6_276c_11eb_a974_b083fed64862row4_col2\" class=\"data row4 col2\" >31.48</td>\n",
       "                        <td id=\"T_0412cca6_276c_11eb_a974_b083fed64862row4_col3\" class=\"data row4 col3\" >35.59</td>\n",
       "                        <td id=\"T_0412cca6_276c_11eb_a974_b083fed64862row4_col4\" class=\"data row4 col4\" >36.16</td>\n",
       "                        <td id=\"T_0412cca6_276c_11eb_a974_b083fed64862row4_col5\" class=\"data row4 col5\" >33</td>\n",
       "                        <td id=\"T_0412cca6_276c_11eb_a974_b083fed64862row4_col6\" class=\"data row4 col6\" >3.05</td>\n",
       "                        <td id=\"T_0412cca6_276c_11eb_a974_b083fed64862row4_col7\" class=\"data row4 col7\" >38.97</td>\n",
       "                        <td id=\"T_0412cca6_276c_11eb_a974_b083fed64862row4_col8\" class=\"data row4 col8\" >27.02</td>\n",
       "            </tr>\n",
       "            <tr>\n",
       "                        <th id=\"T_0412cca6_276c_11eb_a974_b083fed64862level0_row5\" class=\"row_heading level0 row5\" >5</th>\n",
       "                        <td id=\"T_0412cca6_276c_11eb_a974_b083fed64862row5_col0\" class=\"data row5 col0\" >TD-LR</td>\n",
       "                        <td id=\"T_0412cca6_276c_11eb_a974_b083fed64862row5_col1\" class=\"data row5 col1\" >28.39</td>\n",
       "                        <td id=\"T_0412cca6_276c_11eb_a974_b083fed64862row5_col2\" class=\"data row5 col2\" >32.59</td>\n",
       "                        <td id=\"T_0412cca6_276c_11eb_a974_b083fed64862row5_col3\" class=\"data row5 col3\" >36.47</td>\n",
       "                        <td id=\"T_0412cca6_276c_11eb_a974_b083fed64862row5_col4\" class=\"data row5 col4\" >42.92</td>\n",
       "                        <td id=\"T_0412cca6_276c_11eb_a974_b083fed64862row5_col5\" class=\"data row5 col5\" >35.09</td>\n",
       "                        <td id=\"T_0412cca6_276c_11eb_a974_b083fed64862row5_col6\" class=\"data row5 col6\" >5.34</td>\n",
       "                        <td id=\"T_0412cca6_276c_11eb_a974_b083fed64862row5_col7\" class=\"data row5 col7\" >45.57</td>\n",
       "                        <td id=\"T_0412cca6_276c_11eb_a974_b083fed64862row5_col8\" class=\"data row5 col8\" >24.62</td>\n",
       "            </tr>\n",
       "            <tr>\n",
       "                        <th id=\"T_0412cca6_276c_11eb_a974_b083fed64862level0_row6\" class=\"row_heading level0 row6\" >6</th>\n",
       "                        <td id=\"T_0412cca6_276c_11eb_a974_b083fed64862row6_col0\" class=\"data row6 col0\" >VADER</td>\n",
       "                        <td id=\"T_0412cca6_276c_11eb_a974_b083fed64862row6_col1\" class=\"data row6 col1\" >28.79</td>\n",
       "                        <td id=\"T_0412cca6_276c_11eb_a974_b083fed64862row6_col2\" class=\"data row6 col2\" >36.09</td>\n",
       "                        <td id=\"T_0412cca6_276c_11eb_a974_b083fed64862row6_col3\" class=\"data row6 col3\" >39.46</td>\n",
       "                        <td id=\"T_0412cca6_276c_11eb_a974_b083fed64862row6_col4\" class=\"data row6 col4\" >38.4</td>\n",
       "                        <td id=\"T_0412cca6_276c_11eb_a974_b083fed64862row6_col5\" class=\"data row6 col5\" >35.68</td>\n",
       "                        <td id=\"T_0412cca6_276c_11eb_a974_b083fed64862row6_col6\" class=\"data row6 col6\" >4.16</td>\n",
       "                        <td id=\"T_0412cca6_276c_11eb_a974_b083fed64862row6_col7\" class=\"data row6 col7\" >43.84</td>\n",
       "                        <td id=\"T_0412cca6_276c_11eb_a974_b083fed64862row6_col8\" class=\"data row6 col8\" >27.53</td>\n",
       "            </tr>\n",
       "            <tr>\n",
       "                        <th id=\"T_0412cca6_276c_11eb_a974_b083fed64862level0_row7\" class=\"row_heading level0 row7\" >7</th>\n",
       "                        <td id=\"T_0412cca6_276c_11eb_a974_b083fed64862row7_col0\" class=\"data row7 col0\" >in_domain_MNB</td>\n",
       "                        <td id=\"T_0412cca6_276c_11eb_a974_b083fed64862row7_col1\" class=\"data row7 col1\" >33.88</td>\n",
       "                        <td id=\"T_0412cca6_276c_11eb_a974_b083fed64862row7_col2\" class=\"data row7 col2\" >40.31</td>\n",
       "                        <td id=\"T_0412cca6_276c_11eb_a974_b083fed64862row7_col3\" class=\"data row7 col3\" >34.64</td>\n",
       "                        <td id=\"T_0412cca6_276c_11eb_a974_b083fed64862row7_col4\" class=\"data row7 col4\" >39.71</td>\n",
       "                        <td id=\"T_0412cca6_276c_11eb_a974_b083fed64862row7_col5\" class=\"data row7 col5\" >37.13</td>\n",
       "                        <td id=\"T_0412cca6_276c_11eb_a974_b083fed64862row7_col6\" class=\"data row7 col6\" >2.89</td>\n",
       "                        <td id=\"T_0412cca6_276c_11eb_a974_b083fed64862row7_col7\" class=\"data row7 col7\" >42.81</td>\n",
       "                        <td id=\"T_0412cca6_276c_11eb_a974_b083fed64862row7_col8\" class=\"data row7 col8\" >31.46</td>\n",
       "            </tr>\n",
       "            <tr>\n",
       "                        <th id=\"T_0412cca6_276c_11eb_a974_b083fed64862level0_row8\" class=\"row_heading level0 row8\" >8</th>\n",
       "                        <td id=\"T_0412cca6_276c_11eb_a974_b083fed64862row8_col0\" class=\"data row8 col0\" >in_domain_SVM</td>\n",
       "                        <td id=\"T_0412cca6_276c_11eb_a974_b083fed64862row8_col1\" class=\"data row8 col1\" >31.9</td>\n",
       "                        <td id=\"T_0412cca6_276c_11eb_a974_b083fed64862row8_col2\" class=\"data row8 col2\" >44.5</td>\n",
       "                        <td id=\"T_0412cca6_276c_11eb_a974_b083fed64862row8_col3\" class=\"data row8 col3\" >32.35</td>\n",
       "                        <td id=\"T_0412cca6_276c_11eb_a974_b083fed64862row8_col4\" class=\"data row8 col4\" >41.14</td>\n",
       "                        <td id=\"T_0412cca6_276c_11eb_a974_b083fed64862row8_col5\" class=\"data row8 col5\" >37.47</td>\n",
       "                        <td id=\"T_0412cca6_276c_11eb_a974_b083fed64862row8_col6\" class=\"data row8 col6\" >5.48</td>\n",
       "                        <td id=\"T_0412cca6_276c_11eb_a974_b083fed64862row8_col7\" class=\"data row8 col7\" >48.22</td>\n",
       "                        <td id=\"T_0412cca6_276c_11eb_a974_b083fed64862row8_col8\" class=\"data row8 col8\" >26.73</td>\n",
       "            </tr>\n",
       "            <tr>\n",
       "                        <th id=\"T_0412cca6_276c_11eb_a974_b083fed64862level0_row9\" class=\"row_heading level0 row9\" >9</th>\n",
       "                        <td id=\"T_0412cca6_276c_11eb_a974_b083fed64862row9_col0\" class=\"data row9 col0\" >DSSD</td>\n",
       "                        <td id=\"T_0412cca6_276c_11eb_a974_b083fed64862row9_col1\" class=\"data row9 col1\" >32.78</td>\n",
       "                        <td id=\"T_0412cca6_276c_11eb_a974_b083fed64862row9_col2\" class=\"data row9 col2\" >25.13</td>\n",
       "                        <td id=\"T_0412cca6_276c_11eb_a974_b083fed64862row9_col3\" class=\"data row9 col3\" >30.94</td>\n",
       "                        <td id=\"T_0412cca6_276c_11eb_a974_b083fed64862row9_col4\" class=\"data row9 col4\" >61.73</td>\n",
       "                        <td id=\"T_0412cca6_276c_11eb_a974_b083fed64862row9_col5\" class=\"data row9 col5\" >37.65</td>\n",
       "                        <td id=\"T_0412cca6_276c_11eb_a974_b083fed64862row9_col6\" class=\"data row9 col6\" >14.19</td>\n",
       "                        <td id=\"T_0412cca6_276c_11eb_a974_b083fed64862row9_col7\" class=\"data row9 col7\" >65.45</td>\n",
       "                        <td id=\"T_0412cca6_276c_11eb_a974_b083fed64862row9_col8\" class=\"data row9 col8\" >9.84</td>\n",
       "            </tr>\n",
       "            <tr>\n",
       "                        <th id=\"T_0412cca6_276c_11eb_a974_b083fed64862level0_row10\" class=\"row_heading level0 row10\" >10</th>\n",
       "                        <td id=\"T_0412cca6_276c_11eb_a974_b083fed64862row10_col0\" class=\"data row10 col0\" >in_domain_LR</td>\n",
       "                        <td id=\"T_0412cca6_276c_11eb_a974_b083fed64862row10_col1\" class=\"data row10 col1\" >32.28</td>\n",
       "                        <td id=\"T_0412cca6_276c_11eb_a974_b083fed64862row10_col2\" class=\"data row10 col2\" >46.36</td>\n",
       "                        <td id=\"T_0412cca6_276c_11eb_a974_b083fed64862row10_col3\" class=\"data row10 col3\" >33.84</td>\n",
       "                        <td id=\"T_0412cca6_276c_11eb_a974_b083fed64862row10_col4\" class=\"data row10 col4\" >44.69</td>\n",
       "                        <td id=\"T_0412cca6_276c_11eb_a974_b083fed64862row10_col5\" class=\"data row10 col5\" >39.29</td>\n",
       "                        <td id=\"T_0412cca6_276c_11eb_a974_b083fed64862row10_col6\" class=\"data row10 col6\" >6.29</td>\n",
       "                        <td id=\"T_0412cca6_276c_11eb_a974_b083fed64862row10_col7\" class=\"data row10 col7\" >51.61</td>\n",
       "                        <td id=\"T_0412cca6_276c_11eb_a974_b083fed64862row10_col8\" class=\"data row10 col8\" >26.98</td>\n",
       "            </tr>\n",
       "    </tbody></table>"
      ],
      "text/plain": [
       "<pandas.io.formats.style.Styler at 0x7f6d0e8b59e8>"
      ]
     },
     "execution_count": 16,
     "metadata": {},
     "output_type": "execute_result"
    }
   ],
   "source": [
    "# tab 5\n",
    "trump = all_runs_results[all_runs_results['Target'] =='Donald Trump']\n",
    "#trump['Method'] = trump['Method'].map(methods_map)\n",
    "trump['Dataset'] = [str.upper(i) for i in trump['Dataset']]\n",
    "trump_maj = trump.groupby(['Method', 'Dataset']).mean()['Macro F1'].unstack()\n",
    "#trump_performance_f1 = trump_performance_f1[['constance', 'f8', 'mtsd', 'presidents', 'semevalb']]\n",
    "trump_maj = trump_maj.select_dtypes(exclude=['object', 'datetime']) * 100\n",
    "trump_maj['Mean F1'] = trump_maj.mean(axis = 1)\n",
    "trump_maj['Std'] = trump_maj.std(axis = 1)\n",
    "\n",
    "all_target_stats = trump_maj[['Mean F1', 'Std']]\n",
    "all_target_stats['Count'] = [1] * len(all_target_stats)\n",
    "\n",
    "ci95_hi = []\n",
    "ci95_lo = []\n",
    "\n",
    "for i in all_target_stats.index:\n",
    "    m, s, c = all_target_stats.loc[i]\n",
    "    ci95_hi.append(m + 1.96*s/math.sqrt(c))\n",
    "    ci95_lo.append(m - 1.96*s/math.sqrt(c))\n",
    "\n",
    "trump_maj['95% CI (high)'] = ci95_hi\n",
    "trump_maj['95% CI (low)'] = ci95_lo\n",
    "\n",
    "trump_maj = trump_maj.sort_values('Mean F1')\n",
    "\n",
    "datasets_mean = list(trump['Dataset'].unique())\n",
    "datasets_mean.append('Mean')                     \n",
    "\n",
    "styled = trump_maj.reset_index().round(2).style.apply(\n",
    "    highlight_max, subset = datasets_mean).apply(\n",
    "    highlight_max_red, subset = ['Std'])\n",
    "\n",
    "styled"
   ]
  },
  {
   "cell_type": "code",
   "execution_count": 17,
   "metadata": {
    "collapsed": false
   },
   "outputs": [
    {
     "name": "stdout",
     "output_type": "stream",
     "text": [
      "\\begin{tabular}{llrrrrrrrr}\n",
      "\\toprule\n",
      "Dataset &              Method &  CONSTANCE &   MTSD &  PRESIDENTS &  SEMEVALB &  Mean F1 &    Std &  95\\% CI (high) &  95\\% CI (low) \\\\\n",
      "\\midrule\n",
      "0  &   Majority (Target) &      27.86 &  15.36 &       25.48 &     19.81 &    22.13 &   4.88 &          31.70 &         12.56 \\\\\n",
      "1  &  Majority (Dataset) &      27.86 &  21.56 &       25.48 &     19.81 &    23.68 &   3.17 &          29.89 &         17.47 \\\\\n",
      "2  &              Random &      24.18 &  32.57 &       29.44 &     31.70 &    29.47 &   3.26 &          35.87 &         23.08 \\\\\n",
      "3  &                MPQA &      23.57 &  33.93 &       27.94 &     38.17 &    30.90 &   5.58 &          41.84 &         19.97 \\\\\n",
      "4  &               LabMT &      28.75 &  31.48 &       35.59 &     36.16 &    33.00 &   3.05 &          38.97 &         27.02 \\\\\n",
      "5  &               TD-LR &      28.39 &  32.59 &       36.47 &     42.92 &    35.09 &   5.34 &          45.57 &         24.62 \\\\\n",
      "6  &               VADER &      28.79 &  36.09 &       39.46 &     38.40 &    35.68 &   4.16 &          43.84 &         27.53 \\\\\n",
      "7  &       in\\_domain\\_MNB &      33.88 &  40.31 &       34.64 &     39.71 &    37.13 &   2.89 &          42.81 &         31.46 \\\\\n",
      "8  &       in\\_domain\\_SVM &      31.90 &  44.50 &       32.35 &     41.14 &    37.47 &   5.48 &          48.22 &         26.73 \\\\\n",
      "9  &                DSSD &      32.78 &  25.13 &       30.94 &     61.73 &    37.65 &  14.19 &          65.45 &          9.84 \\\\\n",
      "10 &        in\\_domain\\_LR &      32.28 &  46.36 &       33.84 &     44.69 &    39.29 &   6.29 &          51.61 &         26.98 \\\\\n",
      "\\bottomrule\n",
      "\\end{tabular}\n",
      "\n"
     ]
    }
   ],
   "source": [
    "print(trump_maj.reset_index().round(2).to_latex())"
   ]
  },
  {
   "cell_type": "markdown",
   "metadata": {},
   "source": [
    "### Performance acrossall targets (Table 4)"
   ]
  },
  {
   "cell_type": "code",
   "execution_count": 18,
   "metadata": {
    "collapsed": false
   },
   "outputs": [
    {
     "name": "stderr",
     "output_type": "stream",
     "text": [
      "/bigdata/sexism/sexist_code_icwsm20/icwsm20/lib/python3.5/site-packages/ipykernel_launcher.py:13: SettingWithCopyWarning: \n",
      "A value is trying to be set on a copy of a slice from a DataFrame.\n",
      "Try using .loc[row_indexer,col_indexer] = value instead\n",
      "\n",
      "See the caveats in the documentation: http://pandas.pydata.org/pandas-docs/stable/indexing.html#indexing-view-versus-copy\n",
      "  del sys.path[0]\n"
     ]
    },
    {
     "data": {
      "text/html": [
       "<style  type=\"text/css\" >\n",
       "    #T_0412cca7_276c_11eb_a974_b083fed64862row1_col9 {\n",
       "            color:  red;\n",
       "        }    #T_0412cca7_276c_11eb_a974_b083fed64862row8_col3 {\n",
       "            font-weight:  bold;\n",
       "        }    #T_0412cca7_276c_11eb_a974_b083fed64862row9_col6 {\n",
       "            font-weight:  bold;\n",
       "        }    #T_0412cca7_276c_11eb_a974_b083fed64862row10_col1 {\n",
       "            font-weight:  bold;\n",
       "        }    #T_0412cca7_276c_11eb_a974_b083fed64862row10_col2 {\n",
       "            font-weight:  bold;\n",
       "        }    #T_0412cca7_276c_11eb_a974_b083fed64862row10_col4 {\n",
       "            font-weight:  bold;\n",
       "        }    #T_0412cca7_276c_11eb_a974_b083fed64862row10_col5 {\n",
       "            font-weight:  bold;\n",
       "        }    #T_0412cca7_276c_11eb_a974_b083fed64862row10_col7 {\n",
       "            font-weight:  bold;\n",
       "        }    #T_0412cca7_276c_11eb_a974_b083fed64862row10_col8 {\n",
       "            font-weight:  bold;\n",
       "        }</style><table id=\"T_0412cca7_276c_11eb_a974_b083fed64862\" ><thead>    <tr>        <th class=\"index_name level0\" >Target</th>        <th class=\"col_heading level0 col0\" >Method</th>        <th class=\"col_heading level0 col1\" >Clinton</th>        <th class=\"col_heading level0 col2\" >Erdoğan</th>        <th class=\"col_heading level0 col3\" >Macron</th>        <th class=\"col_heading level0 col4\" >Putin</th>        <th class=\"col_heading level0 col5\" >Trump</th>        <th class=\"col_heading level0 col6\" >Widodo</th>        <th class=\"col_heading level0 col7\" >Zuma</th>        <th class=\"col_heading level0 col8\" >Mean F1</th>        <th class=\"col_heading level0 col9\" >Std</th>        <th class=\"col_heading level0 col10\" >95% CI (high)</th>        <th class=\"col_heading level0 col11\" >95% CI (low)</th>    </tr></thead><tbody>\n",
       "                <tr>\n",
       "                        <th id=\"T_0412cca7_276c_11eb_a974_b083fed64862level0_row0\" class=\"row_heading level0 row0\" >0</th>\n",
       "                        <td id=\"T_0412cca7_276c_11eb_a974_b083fed64862row0_col0\" class=\"data row0 col0\" >Majority (Target)</td>\n",
       "                        <td id=\"T_0412cca7_276c_11eb_a974_b083fed64862row0_col1\" class=\"data row0 col1\" >22.3</td>\n",
       "                        <td id=\"T_0412cca7_276c_11eb_a974_b083fed64862row0_col2\" class=\"data row0 col2\" >25.78</td>\n",
       "                        <td id=\"T_0412cca7_276c_11eb_a974_b083fed64862row0_col3\" class=\"data row0 col3\" >19.96</td>\n",
       "                        <td id=\"T_0412cca7_276c_11eb_a974_b083fed64862row0_col4\" class=\"data row0 col4\" >26.84</td>\n",
       "                        <td id=\"T_0412cca7_276c_11eb_a974_b083fed64862row0_col5\" class=\"data row0 col5\" >19.4</td>\n",
       "                        <td id=\"T_0412cca7_276c_11eb_a974_b083fed64862row0_col6\" class=\"data row0 col6\" >19.11</td>\n",
       "                        <td id=\"T_0412cca7_276c_11eb_a974_b083fed64862row0_col7\" class=\"data row0 col7\" >24.68</td>\n",
       "                        <td id=\"T_0412cca7_276c_11eb_a974_b083fed64862row0_col8\" class=\"data row0 col8\" >22.58</td>\n",
       "                        <td id=\"T_0412cca7_276c_11eb_a974_b083fed64862row0_col9\" class=\"data row0 col9\" >2.97</td>\n",
       "                        <td id=\"T_0412cca7_276c_11eb_a974_b083fed64862row0_col10\" class=\"data row0 col10\" >28.41</td>\n",
       "                        <td id=\"T_0412cca7_276c_11eb_a974_b083fed64862row0_col11\" class=\"data row0 col11\" >16.75</td>\n",
       "            </tr>\n",
       "            <tr>\n",
       "                        <th id=\"T_0412cca7_276c_11eb_a974_b083fed64862level0_row1\" class=\"row_heading level0 row1\" >1</th>\n",
       "                        <td id=\"T_0412cca7_276c_11eb_a974_b083fed64862row1_col0\" class=\"data row1 col0\" >Majority (Dataset)</td>\n",
       "                        <td id=\"T_0412cca7_276c_11eb_a974_b083fed64862row1_col1\" class=\"data row1 col1\" >23.85</td>\n",
       "                        <td id=\"T_0412cca7_276c_11eb_a974_b083fed64862row1_col2\" class=\"data row1 col2\" >25.78</td>\n",
       "                        <td id=\"T_0412cca7_276c_11eb_a974_b083fed64862row1_col3\" class=\"data row1 col3\" >19.96</td>\n",
       "                        <td id=\"T_0412cca7_276c_11eb_a974_b083fed64862row1_col4\" class=\"data row1 col4\" >26.84</td>\n",
       "                        <td id=\"T_0412cca7_276c_11eb_a974_b083fed64862row1_col5\" class=\"data row1 col5\" >38.33</td>\n",
       "                        <td id=\"T_0412cca7_276c_11eb_a974_b083fed64862row1_col6\" class=\"data row1 col6\" >12.95</td>\n",
       "                        <td id=\"T_0412cca7_276c_11eb_a974_b083fed64862row1_col7\" class=\"data row1 col7\" >24.68</td>\n",
       "                        <td id=\"T_0412cca7_276c_11eb_a974_b083fed64862row1_col8\" class=\"data row1 col8\" >24.63</td>\n",
       "                        <td id=\"T_0412cca7_276c_11eb_a974_b083fed64862row1_col9\" class=\"data row1 col9\" >7.1</td>\n",
       "                        <td id=\"T_0412cca7_276c_11eb_a974_b083fed64862row1_col10\" class=\"data row1 col10\" >38.54</td>\n",
       "                        <td id=\"T_0412cca7_276c_11eb_a974_b083fed64862row1_col11\" class=\"data row1 col11\" >10.71</td>\n",
       "            </tr>\n",
       "            <tr>\n",
       "                        <th id=\"T_0412cca7_276c_11eb_a974_b083fed64862level0_row2\" class=\"row_heading level0 row2\" >2</th>\n",
       "                        <td id=\"T_0412cca7_276c_11eb_a974_b083fed64862row2_col0\" class=\"data row2 col0\" >DSSD</td>\n",
       "                        <td id=\"T_0412cca7_276c_11eb_a974_b083fed64862row2_col1\" class=\"data row2 col1\" >35.56</td>\n",
       "                        <td id=\"T_0412cca7_276c_11eb_a974_b083fed64862row2_col2\" class=\"data row2 col2\" >22.35</td>\n",
       "                        <td id=\"T_0412cca7_276c_11eb_a974_b083fed64862row2_col3\" class=\"data row2 col3\" >30.36</td>\n",
       "                        <td id=\"T_0412cca7_276c_11eb_a974_b083fed64862row2_col4\" class=\"data row2 col4\" >29.72</td>\n",
       "                        <td id=\"T_0412cca7_276c_11eb_a974_b083fed64862row2_col5\" class=\"data row2 col5\" >41.41</td>\n",
       "                        <td id=\"T_0412cca7_276c_11eb_a974_b083fed64862row2_col6\" class=\"data row2 col6\" >22.53</td>\n",
       "                        <td id=\"T_0412cca7_276c_11eb_a974_b083fed64862row2_col7\" class=\"data row2 col7\" >30.35</td>\n",
       "                        <td id=\"T_0412cca7_276c_11eb_a974_b083fed64862row2_col8\" class=\"data row2 col8\" >30.33</td>\n",
       "                        <td id=\"T_0412cca7_276c_11eb_a974_b083fed64862row2_col9\" class=\"data row2 col9\" >6.27</td>\n",
       "                        <td id=\"T_0412cca7_276c_11eb_a974_b083fed64862row2_col10\" class=\"data row2 col10\" >42.61</td>\n",
       "                        <td id=\"T_0412cca7_276c_11eb_a974_b083fed64862row2_col11\" class=\"data row2 col11\" >18.04</td>\n",
       "            </tr>\n",
       "            <tr>\n",
       "                        <th id=\"T_0412cca7_276c_11eb_a974_b083fed64862level0_row3\" class=\"row_heading level0 row3\" >3</th>\n",
       "                        <td id=\"T_0412cca7_276c_11eb_a974_b083fed64862row3_col0\" class=\"data row3 col0\" >Random</td>\n",
       "                        <td id=\"T_0412cca7_276c_11eb_a974_b083fed64862row3_col1\" class=\"data row3 col1\" >32.85</td>\n",
       "                        <td id=\"T_0412cca7_276c_11eb_a974_b083fed64862row3_col2\" class=\"data row3 col2\" >31.19</td>\n",
       "                        <td id=\"T_0412cca7_276c_11eb_a974_b083fed64862row3_col3\" class=\"data row3 col3\" >31.84</td>\n",
       "                        <td id=\"T_0412cca7_276c_11eb_a974_b083fed64862row3_col4\" class=\"data row3 col4\" >29.6</td>\n",
       "                        <td id=\"T_0412cca7_276c_11eb_a974_b083fed64862row3_col5\" class=\"data row3 col5\" >32.3</td>\n",
       "                        <td id=\"T_0412cca7_276c_11eb_a974_b083fed64862row3_col6\" class=\"data row3 col6\" >31.5</td>\n",
       "                        <td id=\"T_0412cca7_276c_11eb_a974_b083fed64862row3_col7\" class=\"data row3 col7\" >31.97</td>\n",
       "                        <td id=\"T_0412cca7_276c_11eb_a974_b083fed64862row3_col8\" class=\"data row3 col8\" >31.61</td>\n",
       "                        <td id=\"T_0412cca7_276c_11eb_a974_b083fed64862row3_col9\" class=\"data row3 col9\" >0.96</td>\n",
       "                        <td id=\"T_0412cca7_276c_11eb_a974_b083fed64862row3_col10\" class=\"data row3 col10\" >33.49</td>\n",
       "                        <td id=\"T_0412cca7_276c_11eb_a974_b083fed64862row3_col11\" class=\"data row3 col11\" >29.73</td>\n",
       "            </tr>\n",
       "            <tr>\n",
       "                        <th id=\"T_0412cca7_276c_11eb_a974_b083fed64862level0_row4\" class=\"row_heading level0 row4\" >4</th>\n",
       "                        <td id=\"T_0412cca7_276c_11eb_a974_b083fed64862row4_col0\" class=\"data row4 col0\" >TD-LR</td>\n",
       "                        <td id=\"T_0412cca7_276c_11eb_a974_b083fed64862row4_col1\" class=\"data row4 col1\" >28.61</td>\n",
       "                        <td id=\"T_0412cca7_276c_11eb_a974_b083fed64862row4_col2\" class=\"data row4 col2\" >33.75</td>\n",
       "                        <td id=\"T_0412cca7_276c_11eb_a974_b083fed64862row4_col3\" class=\"data row4 col3\" >30.65</td>\n",
       "                        <td id=\"T_0412cca7_276c_11eb_a974_b083fed64862row4_col4\" class=\"data row4 col4\" >31.19</td>\n",
       "                        <td id=\"T_0412cca7_276c_11eb_a974_b083fed64862row4_col5\" class=\"data row4 col5\" >36.08</td>\n",
       "                        <td id=\"T_0412cca7_276c_11eb_a974_b083fed64862row4_col6\" class=\"data row4 col6\" >41.91</td>\n",
       "                        <td id=\"T_0412cca7_276c_11eb_a974_b083fed64862row4_col7\" class=\"data row4 col7\" >28.63</td>\n",
       "                        <td id=\"T_0412cca7_276c_11eb_a974_b083fed64862row4_col8\" class=\"data row4 col8\" >32.97</td>\n",
       "                        <td id=\"T_0412cca7_276c_11eb_a974_b083fed64862row4_col9\" class=\"data row4 col9\" >4.42</td>\n",
       "                        <td id=\"T_0412cca7_276c_11eb_a974_b083fed64862row4_col10\" class=\"data row4 col10\" >41.63</td>\n",
       "                        <td id=\"T_0412cca7_276c_11eb_a974_b083fed64862row4_col11\" class=\"data row4 col11\" >24.32</td>\n",
       "            </tr>\n",
       "            <tr>\n",
       "                        <th id=\"T_0412cca7_276c_11eb_a974_b083fed64862level0_row5\" class=\"row_heading level0 row5\" >5</th>\n",
       "                        <td id=\"T_0412cca7_276c_11eb_a974_b083fed64862row5_col0\" class=\"data row5 col0\" >MPQA</td>\n",
       "                        <td id=\"T_0412cca7_276c_11eb_a974_b083fed64862row5_col1\" class=\"data row5 col1\" >31.38</td>\n",
       "                        <td id=\"T_0412cca7_276c_11eb_a974_b083fed64862row5_col2\" class=\"data row5 col2\" >41.28</td>\n",
       "                        <td id=\"T_0412cca7_276c_11eb_a974_b083fed64862row5_col3\" class=\"data row5 col3\" >33.66</td>\n",
       "                        <td id=\"T_0412cca7_276c_11eb_a974_b083fed64862row5_col4\" class=\"data row5 col4\" >33.85</td>\n",
       "                        <td id=\"T_0412cca7_276c_11eb_a974_b083fed64862row5_col5\" class=\"data row5 col5\" >33.43</td>\n",
       "                        <td id=\"T_0412cca7_276c_11eb_a974_b083fed64862row5_col6\" class=\"data row5 col6\" >47.86</td>\n",
       "                        <td id=\"T_0412cca7_276c_11eb_a974_b083fed64862row5_col7\" class=\"data row5 col7\" >37.66</td>\n",
       "                        <td id=\"T_0412cca7_276c_11eb_a974_b083fed64862row5_col8\" class=\"data row5 col8\" >37.02</td>\n",
       "                        <td id=\"T_0412cca7_276c_11eb_a974_b083fed64862row5_col9\" class=\"data row5 col9\" >5.37</td>\n",
       "                        <td id=\"T_0412cca7_276c_11eb_a974_b083fed64862row5_col10\" class=\"data row5 col10\" >47.55</td>\n",
       "                        <td id=\"T_0412cca7_276c_11eb_a974_b083fed64862row5_col11\" class=\"data row5 col11\" >26.49</td>\n",
       "            </tr>\n",
       "            <tr>\n",
       "                        <th id=\"T_0412cca7_276c_11eb_a974_b083fed64862level0_row6\" class=\"row_heading level0 row6\" >6</th>\n",
       "                        <td id=\"T_0412cca7_276c_11eb_a974_b083fed64862row6_col0\" class=\"data row6 col0\" >LabMT</td>\n",
       "                        <td id=\"T_0412cca7_276c_11eb_a974_b083fed64862row6_col1\" class=\"data row6 col1\" >34.6</td>\n",
       "                        <td id=\"T_0412cca7_276c_11eb_a974_b083fed64862row6_col2\" class=\"data row6 col2\" >37.09</td>\n",
       "                        <td id=\"T_0412cca7_276c_11eb_a974_b083fed64862row6_col3\" class=\"data row6 col3\" >42.68</td>\n",
       "                        <td id=\"T_0412cca7_276c_11eb_a974_b083fed64862row6_col4\" class=\"data row6 col4\" >36.01</td>\n",
       "                        <td id=\"T_0412cca7_276c_11eb_a974_b083fed64862row6_col5\" class=\"data row6 col5\" >33.31</td>\n",
       "                        <td id=\"T_0412cca7_276c_11eb_a974_b083fed64862row6_col6\" class=\"data row6 col6\" >49.67</td>\n",
       "                        <td id=\"T_0412cca7_276c_11eb_a974_b083fed64862row6_col7\" class=\"data row6 col7\" >37.51</td>\n",
       "                        <td id=\"T_0412cca7_276c_11eb_a974_b083fed64862row6_col8\" class=\"data row6 col8\" >38.7</td>\n",
       "                        <td id=\"T_0412cca7_276c_11eb_a974_b083fed64862row6_col9\" class=\"data row6 col9\" >5.26</td>\n",
       "                        <td id=\"T_0412cca7_276c_11eb_a974_b083fed64862row6_col10\" class=\"data row6 col10\" >49</td>\n",
       "                        <td id=\"T_0412cca7_276c_11eb_a974_b083fed64862row6_col11\" class=\"data row6 col11\" >28.39</td>\n",
       "            </tr>\n",
       "            <tr>\n",
       "                        <th id=\"T_0412cca7_276c_11eb_a974_b083fed64862level0_row7\" class=\"row_heading level0 row7\" >7</th>\n",
       "                        <td id=\"T_0412cca7_276c_11eb_a974_b083fed64862row7_col0\" class=\"data row7 col0\" >in_domain_SVM</td>\n",
       "                        <td id=\"T_0412cca7_276c_11eb_a974_b083fed64862row7_col1\" class=\"data row7 col1\" >34.63</td>\n",
       "                        <td id=\"T_0412cca7_276c_11eb_a974_b083fed64862row7_col2\" class=\"data row7 col2\" >51.11</td>\n",
       "                        <td id=\"T_0412cca7_276c_11eb_a974_b083fed64862row7_col3\" class=\"data row7 col3\" >32.14</td>\n",
       "                        <td id=\"T_0412cca7_276c_11eb_a974_b083fed64862row7_col4\" class=\"data row7 col4\" >43.77</td>\n",
       "                        <td id=\"T_0412cca7_276c_11eb_a974_b083fed64862row7_col5\" class=\"data row7 col5\" >46.07</td>\n",
       "                        <td id=\"T_0412cca7_276c_11eb_a974_b083fed64862row7_col6\" class=\"data row7 col6\" >50.93</td>\n",
       "                        <td id=\"T_0412cca7_276c_11eb_a974_b083fed64862row7_col7\" class=\"data row7 col7\" >37.9</td>\n",
       "                        <td id=\"T_0412cca7_276c_11eb_a974_b083fed64862row7_col8\" class=\"data row7 col8\" >42.36</td>\n",
       "                        <td id=\"T_0412cca7_276c_11eb_a974_b083fed64862row7_col9\" class=\"data row7 col9\" >7.07</td>\n",
       "                        <td id=\"T_0412cca7_276c_11eb_a974_b083fed64862row7_col10\" class=\"data row7 col10\" >56.22</td>\n",
       "                        <td id=\"T_0412cca7_276c_11eb_a974_b083fed64862row7_col11\" class=\"data row7 col11\" >28.51</td>\n",
       "            </tr>\n",
       "            <tr>\n",
       "                        <th id=\"T_0412cca7_276c_11eb_a974_b083fed64862level0_row8\" class=\"row_heading level0 row8\" >8</th>\n",
       "                        <td id=\"T_0412cca7_276c_11eb_a974_b083fed64862row8_col0\" class=\"data row8 col0\" >VADER</td>\n",
       "                        <td id=\"T_0412cca7_276c_11eb_a974_b083fed64862row8_col1\" class=\"data row8 col1\" >36.48</td>\n",
       "                        <td id=\"T_0412cca7_276c_11eb_a974_b083fed64862row8_col2\" class=\"data row8 col2\" >44.93</td>\n",
       "                        <td id=\"T_0412cca7_276c_11eb_a974_b083fed64862row8_col3\" class=\"data row8 col3\" >44.37</td>\n",
       "                        <td id=\"T_0412cca7_276c_11eb_a974_b083fed64862row8_col4\" class=\"data row8 col4\" >42.73</td>\n",
       "                        <td id=\"T_0412cca7_276c_11eb_a974_b083fed64862row8_col5\" class=\"data row8 col5\" >37.07</td>\n",
       "                        <td id=\"T_0412cca7_276c_11eb_a974_b083fed64862row8_col6\" class=\"data row8 col6\" >50.02</td>\n",
       "                        <td id=\"T_0412cca7_276c_11eb_a974_b083fed64862row8_col7\" class=\"data row8 col7\" >45.56</td>\n",
       "                        <td id=\"T_0412cca7_276c_11eb_a974_b083fed64862row8_col8\" class=\"data row8 col8\" >43.02</td>\n",
       "                        <td id=\"T_0412cca7_276c_11eb_a974_b083fed64862row8_col9\" class=\"data row8 col9\" >4.46</td>\n",
       "                        <td id=\"T_0412cca7_276c_11eb_a974_b083fed64862row8_col10\" class=\"data row8 col10\" >51.77</td>\n",
       "                        <td id=\"T_0412cca7_276c_11eb_a974_b083fed64862row8_col11\" class=\"data row8 col11\" >34.28</td>\n",
       "            </tr>\n",
       "            <tr>\n",
       "                        <th id=\"T_0412cca7_276c_11eb_a974_b083fed64862level0_row9\" class=\"row_heading level0 row9\" >9</th>\n",
       "                        <td id=\"T_0412cca7_276c_11eb_a974_b083fed64862row9_col0\" class=\"data row9 col0\" >in_domain_MNB</td>\n",
       "                        <td id=\"T_0412cca7_276c_11eb_a974_b083fed64862row9_col1\" class=\"data row9 col1\" >40.34</td>\n",
       "                        <td id=\"T_0412cca7_276c_11eb_a974_b083fed64862row9_col2\" class=\"data row9 col2\" >48.96</td>\n",
       "                        <td id=\"T_0412cca7_276c_11eb_a974_b083fed64862row9_col3\" class=\"data row9 col3\" >42.01</td>\n",
       "                        <td id=\"T_0412cca7_276c_11eb_a974_b083fed64862row9_col4\" class=\"data row9 col4\" >40.42</td>\n",
       "                        <td id=\"T_0412cca7_276c_11eb_a974_b083fed64862row9_col5\" class=\"data row9 col5\" >41.37</td>\n",
       "                        <td id=\"T_0412cca7_276c_11eb_a974_b083fed64862row9_col6\" class=\"data row9 col6\" >51.68</td>\n",
       "                        <td id=\"T_0412cca7_276c_11eb_a974_b083fed64862row9_col7\" class=\"data row9 col7\" >41.58</td>\n",
       "                        <td id=\"T_0412cca7_276c_11eb_a974_b083fed64862row9_col8\" class=\"data row9 col8\" >43.77</td>\n",
       "                        <td id=\"T_0412cca7_276c_11eb_a974_b083fed64862row9_col9\" class=\"data row9 col9\" >4.25</td>\n",
       "                        <td id=\"T_0412cca7_276c_11eb_a974_b083fed64862row9_col10\" class=\"data row9 col10\" >52.09</td>\n",
       "                        <td id=\"T_0412cca7_276c_11eb_a974_b083fed64862row9_col11\" class=\"data row9 col11\" >35.44</td>\n",
       "            </tr>\n",
       "            <tr>\n",
       "                        <th id=\"T_0412cca7_276c_11eb_a974_b083fed64862level0_row10\" class=\"row_heading level0 row10\" >10</th>\n",
       "                        <td id=\"T_0412cca7_276c_11eb_a974_b083fed64862row10_col0\" class=\"data row10 col0\" >in_domain_LR</td>\n",
       "                        <td id=\"T_0412cca7_276c_11eb_a974_b083fed64862row10_col1\" class=\"data row10 col1\" >43.13</td>\n",
       "                        <td id=\"T_0412cca7_276c_11eb_a974_b083fed64862row10_col2\" class=\"data row10 col2\" >53.69</td>\n",
       "                        <td id=\"T_0412cca7_276c_11eb_a974_b083fed64862row10_col3\" class=\"data row10 col3\" >43.38</td>\n",
       "                        <td id=\"T_0412cca7_276c_11eb_a974_b083fed64862row10_col4\" class=\"data row10 col4\" >48.59</td>\n",
       "                        <td id=\"T_0412cca7_276c_11eb_a974_b083fed64862row10_col5\" class=\"data row10 col5\" >48.35</td>\n",
       "                        <td id=\"T_0412cca7_276c_11eb_a974_b083fed64862row10_col6\" class=\"data row10 col6\" >51.66</td>\n",
       "                        <td id=\"T_0412cca7_276c_11eb_a974_b083fed64862row10_col7\" class=\"data row10 col7\" >45.94</td>\n",
       "                        <td id=\"T_0412cca7_276c_11eb_a974_b083fed64862row10_col8\" class=\"data row10 col8\" >47.82</td>\n",
       "                        <td id=\"T_0412cca7_276c_11eb_a974_b083fed64862row10_col9\" class=\"data row10 col9\" >3.69</td>\n",
       "                        <td id=\"T_0412cca7_276c_11eb_a974_b083fed64862row10_col10\" class=\"data row10 col10\" >55.05</td>\n",
       "                        <td id=\"T_0412cca7_276c_11eb_a974_b083fed64862row10_col11\" class=\"data row10 col11\" >40.59</td>\n",
       "            </tr>\n",
       "    </tbody></table>"
      ],
      "text/plain": [
       "<pandas.io.formats.style.Styler at 0x7f6cd7bf6f28>"
      ]
     },
     "execution_count": 18,
     "metadata": {},
     "output_type": "execute_result"
    }
   ],
   "source": [
    "# tab 4\n",
    "all_runs_results = pd.DataFrame(mega_all_results)     \n",
    "result_df = all_runs_results\n",
    "#result_df['Method'] = result_df['Method'].map(methods_map)\n",
    "result_df['Target'] = [i.split(' ')[-1] for i in result_df['Target']]\n",
    "all_target_performance_f1 = result_df.groupby(['Method', 'Target']).mean()['Macro F1'].unstack()\n",
    "all_target_performance_f1 = all_target_performance_f1.select_dtypes(exclude=['object', 'datetime']) * 100\n",
    "#trump_performance_f1 = trump_performance_f1[['constance', 'f8', 'mtsd', 'presidents', 'semevalb']]\n",
    "all_target_performance_f1['Mean F1'] = all_target_performance_f1.mean(axis = 1)\n",
    "all_target_performance_f1['Std'] = all_target_performance_f1.std(axis = 1)\n",
    "\n",
    "all_target_stats = all_target_performance_f1[['Mean F1', 'Std']]\n",
    "all_target_stats['Count'] = [1] * len(all_target_stats)\n",
    "\n",
    "ci95_hi = []\n",
    "ci95_lo = []\n",
    "\n",
    "for i in all_target_stats.index:\n",
    "    m, s, c = all_target_stats.loc[i]\n",
    "    ci95_hi.append(m + 1.96*s/math.sqrt(c))\n",
    "    ci95_lo.append(m - 1.96*s/math.sqrt(c))\n",
    "\n",
    "all_target_performance_f1['95% CI (high)'] = ci95_hi\n",
    "all_target_performance_f1['95% CI (low)'] = ci95_lo\n",
    "\n",
    "#all_target_performance_f1['Overall Rank'] = all_target_performance_f1['Mean'].rank(ascending = False)\n",
    "#all_target_performance_f1['Trump Rank'] = all_target_performance_f1['Donald Trump'].rank(ascending = False)\n",
    "all_target_ranks = pd.DataFrame()\n",
    "for dataset in result_df[\"Target\"].unique():\n",
    "    all_target_ranks['%s_rank' %dataset] = all_target_performance_f1[dataset].rank(ascending = False) \n",
    "#all_target_performance_f1['Mean Rank'] = all_target_ranks.mean(axis = 1)\n",
    "#all_target_performance_f1.round(3)\n",
    "#all_target_performance_f1 = all_target_performance_f1.sort_values('Mean Rank', ascending = False)\n",
    "all_target_performance_f1 = all_target_performance_f1.sort_values('Mean F1')\n",
    "\n",
    "datasets_mean = list(result_df['Target'].unique())\n",
    "datasets_mean.append('Mean F1')                     \n",
    "\n",
    "styled = all_target_performance_f1.reset_index().round(2).style.apply(\n",
    "    highlight_max, subset = datasets_mean).apply(\n",
    "    highlight_max_red, subset = ['Std'])\n",
    "\n",
    "styled"
   ]
  },
  {
   "cell_type": "code",
   "execution_count": 19,
   "metadata": {
    "collapsed": false
   },
   "outputs": [
    {
     "name": "stdout",
     "output_type": "stream",
     "text": [
      "\\begin{tabular}{lrrrrrrrrrrr}\n",
      "\\toprule\n",
      "Target &  Clinton &  Erdoğan &  Macron &  Putin &  Trump &  Widodo &   Zuma &  Mean F1 &   Std &  95\\% CI (high) &  95\\% CI (low) \\\\\n",
      "Method             &          &          &         &        &        &         &        &          &       &                &               \\\\\n",
      "\\midrule\n",
      "Majority (Target)  &    22.30 &    25.78 &   19.96 &  26.84 &  19.40 &   19.11 &  24.68 &    22.58 &  2.97 &          28.41 &         16.75 \\\\\n",
      "Majority (Dataset) &    23.85 &    25.78 &   19.96 &  26.84 &  38.33 &   12.95 &  24.68 &    24.63 &  7.10 &          38.54 &         10.71 \\\\\n",
      "DSSD               &    35.56 &    22.35 &   30.36 &  29.72 &  41.41 &   22.53 &  30.35 &    30.33 &  6.27 &          42.61 &         18.04 \\\\\n",
      "Random             &    32.85 &    31.19 &   31.84 &  29.60 &  32.30 &   31.50 &  31.97 &    31.61 &  0.96 &          33.49 &         29.73 \\\\\n",
      "TD-LR              &    28.61 &    33.75 &   30.65 &  31.19 &  36.08 &   41.91 &  28.63 &    32.97 &  4.42 &          41.63 &         24.32 \\\\\n",
      "MPQA               &    31.38 &    41.28 &   33.66 &  33.85 &  33.43 &   47.86 &  37.66 &    37.02 &  5.37 &          47.55 &         26.49 \\\\\n",
      "LabMT              &    34.60 &    37.09 &   42.68 &  36.01 &  33.31 &   49.67 &  37.51 &    38.70 &  5.26 &          49.00 &         28.39 \\\\\n",
      "in\\_domain\\_SVM      &    34.63 &    51.11 &   32.14 &  43.77 &  46.07 &   50.93 &  37.90 &    42.36 &  7.07 &          56.22 &         28.51 \\\\\n",
      "VADER              &    36.48 &    44.93 &   44.37 &  42.73 &  37.07 &   50.02 &  45.56 &    43.02 &  4.46 &          51.77 &         34.28 \\\\\n",
      "in\\_domain\\_MNB      &    40.34 &    48.96 &   42.01 &  40.42 &  41.37 &   51.68 &  41.58 &    43.77 &  4.25 &          52.09 &         35.44 \\\\\n",
      "in\\_domain\\_LR       &    43.13 &    53.69 &   43.38 &  48.59 &  48.35 &   51.66 &  45.94 &    47.82 &  3.69 &          55.05 &         40.59 \\\\\n",
      "\\bottomrule\n",
      "\\end{tabular}\n",
      "\n"
     ]
    }
   ],
   "source": [
    "print(all_target_performance_f1.round(2).to_latex(multirow = True, multicolumn = True))"
   ]
  },
  {
   "cell_type": "markdown",
   "metadata": {},
   "source": [
    "### Test in-domain models, compare with ots methods across direct and indirect stance"
   ]
  },
  {
   "cell_type": "code",
   "execution_count": 20,
   "metadata": {
    "collapsed": true
   },
   "outputs": [],
   "source": [
    "import seaborn as sns\n",
    "import matplotlib.pyplot as plt\n",
    "from sklearn.metrics import confusion_matrix\n",
    "%matplotlib inline"
   ]
  },
  {
   "cell_type": "code",
   "execution_count": 21,
   "metadata": {
    "collapsed": false
   },
   "outputs": [
    {
     "name": "stderr",
     "output_type": "stream",
     "text": [
      "/bigdata/sexism/sexist_code_icwsm20/icwsm20/lib/python3.5/site-packages/ipykernel_launcher.py:17: SettingWithCopyWarning: \n",
      "A value is trying to be set on a copy of a slice from a DataFrame.\n",
      "Try using .loc[row_indexer,col_indexer] = value instead\n",
      "\n",
      "See the caveats in the documentation: http://pandas.pydata.org/pandas-docs/stable/indexing.html#indexing-view-versus-copy\n",
      "/bigdata/sexism/sexist_code_icwsm20/icwsm20/lib/python3.5/site-packages/ipykernel_launcher.py:18: SettingWithCopyWarning: \n",
      "A value is trying to be set on a copy of a slice from a DataFrame.\n",
      "Try using .loc[row_indexer,col_indexer] = value instead\n",
      "\n",
      "See the caveats in the documentation: http://pandas.pydata.org/pandas-docs/stable/indexing.html#indexing-view-versus-copy\n",
      "/bigdata/sexism/sexist_code_icwsm20/icwsm20/lib/python3.5/site-packages/ipykernel_launcher.py:17: SettingWithCopyWarning: \n",
      "A value is trying to be set on a copy of a slice from a DataFrame.\n",
      "Try using .loc[row_indexer,col_indexer] = value instead\n",
      "\n",
      "See the caveats in the documentation: http://pandas.pydata.org/pandas-docs/stable/indexing.html#indexing-view-versus-copy\n",
      "/bigdata/sexism/sexist_code_icwsm20/icwsm20/lib/python3.5/site-packages/ipykernel_launcher.py:18: SettingWithCopyWarning: \n",
      "A value is trying to be set on a copy of a slice from a DataFrame.\n",
      "Try using .loc[row_indexer,col_indexer] = value instead\n",
      "\n",
      "See the caveats in the documentation: http://pandas.pydata.org/pandas-docs/stable/indexing.html#indexing-view-versus-copy\n"
     ]
    },
    {
     "data": {
      "image/png": "[encoded data removed]",
      "text/plain": [
       "<Figure size 720x324 with 4 Axes>"
      ]
     },
     "metadata": {
      "needs_background": "light"
     },
     "output_type": "display_data"
    },
    {
     "name": "stdout",
     "output_type": "stream",
     "text": [
      "\n"
     ]
    }
   ],
   "source": [
    "# fig 2\n",
    "run = 2\n",
    "sns.set_context(\"paper\", font_scale=1.8, rc={\"lines.linewidth\": 1.8})\n",
    "data = pd.read_csv(\"../outputs/all_test_%d_results.csv\" %(run), sep = \"\\t\")\n",
    "data = data[data['Target'] == 'Donald Trump']\n",
    "data['Dataset'] = [datasets_map[i] for i in data['Dataset']]\n",
    "\n",
    "datas = data.groupby('Dataset')\n",
    "\n",
    "methods = ['DSSD_%d' %(run)]\n",
    "j = 0\n",
    "for model in methods:\n",
    "    fig, axes = plt.subplots(nrows=1, ncols=2, figsize = (10, 4.5), sharey = True)\n",
    "    for n, i in enumerate(['mtsd', 'pres']):\n",
    "    #print(i) \n",
    "        datax = datas.get_group(i)\n",
    "        datax['Stance'] = datax['Stance'].map({'AGAINST' : 'against', 'FAVOR' : 'favor', 'NONE' : 'none'})\n",
    "        datax['%s'%(model)] = datax['%s'%(model)].map({'AGAINST' : 'against', 'FAVOR' : 'favor', 'NONE' : 'none'})\n",
    "        sns.heatmap(confusion_matrix(datax['Stance'], datax['%s'%(model)]),\n",
    "                    ax = axes[n], cmap=\"Blues\", annot = True, fmt=\"d\",\n",
    "                       xticklabels = ['against', 'favor', 'none'],\n",
    "                       yticklabels = ['against', 'favor', 'none'])\n",
    "        \n",
    "        axes[n].set_title(str.upper(i))\n",
    "        axes[n].set_ylabel('Stance')\n",
    "        axes[n].set_xlabel('Predicted Stance (DSSD)', labelpad=20)\n",
    "#         for ax in fig.axes:\n",
    "# #             ax.xtick_params(labelrotation=0)\n",
    "#             ax.tick_params(labelrotation=40, axis = 'y')\n",
    "\n",
    "    #sns.heatmap(pd.crosstab(datax['Stance'], datax['TD-LSTM_0']), ax = ax2, cmap=\"Blues\", annot = True)\n",
    "    #sns.heatmap(pd.crosstab(datax['TD-LSTM_0'], datax['DSSD_0']), ax = ax3, cmap=\"Blues\", annot = True)\n",
    "    plt.tight_layout()\n",
    "    plt.savefig(\"../plots/error_analysis.pdf\")\n",
    "    plt.show()\n",
    "    print()"
   ]
  },
  {
   "cell_type": "code",
   "execution_count": 22,
   "metadata": {
    "collapsed": false
   },
   "outputs": [
    {
     "name": "stderr",
     "output_type": "stream",
     "text": [
      "/bigdata/sexism/sexist_code_icwsm20/icwsm20/lib/python3.5/site-packages/ipykernel_launcher.py:11: SettingWithCopyWarning: \n",
      "A value is trying to be set on a copy of a slice from a DataFrame.\n",
      "Try using .loc[row_indexer,col_indexer] = value instead\n",
      "\n",
      "See the caveats in the documentation: http://pandas.pydata.org/pandas-docs/stable/indexing.html#indexing-view-versus-copy\n",
      "  # This is added back by InteractiveShellApp.init_path()\n",
      "/bigdata/sexism/sexist_code_icwsm20/icwsm20/lib/python3.5/site-packages/ipykernel_launcher.py:12: SettingWithCopyWarning: \n",
      "A value is trying to be set on a copy of a slice from a DataFrame.\n",
      "Try using .loc[row_indexer,col_indexer] = value instead\n",
      "\n",
      "See the caveats in the documentation: http://pandas.pydata.org/pandas-docs/stable/indexing.html#indexing-view-versus-copy\n",
      "  if sys.path[0] == '':\n",
      "/bigdata/sexism/sexist_code_icwsm20/icwsm20/lib/python3.5/site-packages/ipykernel_launcher.py:11: SettingWithCopyWarning: \n",
      "A value is trying to be set on a copy of a slice from a DataFrame.\n",
      "Try using .loc[row_indexer,col_indexer] = value instead\n",
      "\n",
      "See the caveats in the documentation: http://pandas.pydata.org/pandas-docs/stable/indexing.html#indexing-view-versus-copy\n",
      "  # This is added back by InteractiveShellApp.init_path()\n",
      "/bigdata/sexism/sexist_code_icwsm20/icwsm20/lib/python3.5/site-packages/ipykernel_launcher.py:12: SettingWithCopyWarning: \n",
      "A value is trying to be set on a copy of a slice from a DataFrame.\n",
      "Try using .loc[row_indexer,col_indexer] = value instead\n",
      "\n",
      "See the caveats in the documentation: http://pandas.pydata.org/pandas-docs/stable/indexing.html#indexing-view-versus-copy\n",
      "  if sys.path[0] == '':\n",
      "/bigdata/sexism/sexist_code_icwsm20/icwsm20/lib/python3.5/site-packages/ipykernel_launcher.py:11: SettingWithCopyWarning: \n",
      "A value is trying to be set on a copy of a slice from a DataFrame.\n",
      "Try using .loc[row_indexer,col_indexer] = value instead\n",
      "\n",
      "See the caveats in the documentation: http://pandas.pydata.org/pandas-docs/stable/indexing.html#indexing-view-versus-copy\n",
      "  # This is added back by InteractiveShellApp.init_path()\n",
      "/bigdata/sexism/sexist_code_icwsm20/icwsm20/lib/python3.5/site-packages/ipykernel_launcher.py:12: SettingWithCopyWarning: \n",
      "A value is trying to be set on a copy of a slice from a DataFrame.\n",
      "Try using .loc[row_indexer,col_indexer] = value instead\n",
      "\n",
      "See the caveats in the documentation: http://pandas.pydata.org/pandas-docs/stable/indexing.html#indexing-view-versus-copy\n",
      "  if sys.path[0] == '':\n",
      "/bigdata/sexism/sexist_code_icwsm20/icwsm20/lib/python3.5/site-packages/ipykernel_launcher.py:11: SettingWithCopyWarning: \n",
      "A value is trying to be set on a copy of a slice from a DataFrame.\n",
      "Try using .loc[row_indexer,col_indexer] = value instead\n",
      "\n",
      "See the caveats in the documentation: http://pandas.pydata.org/pandas-docs/stable/indexing.html#indexing-view-versus-copy\n",
      "  # This is added back by InteractiveShellApp.init_path()\n",
      "/bigdata/sexism/sexist_code_icwsm20/icwsm20/lib/python3.5/site-packages/ipykernel_launcher.py:12: SettingWithCopyWarning: \n",
      "A value is trying to be set on a copy of a slice from a DataFrame.\n",
      "Try using .loc[row_indexer,col_indexer] = value instead\n",
      "\n",
      "See the caveats in the documentation: http://pandas.pydata.org/pandas-docs/stable/indexing.html#indexing-view-versus-copy\n",
      "  if sys.path[0] == '':\n"
     ]
    },
    {
     "data": {
      "image/png": "[encoded data removed]",
      "text/plain": [
       "<Figure size 720x576 with 8 Axes>"
      ]
     },
     "metadata": {
      "needs_background": "light"
     },
     "output_type": "display_data"
    },
    {
     "name": "stdout",
     "output_type": "stream",
     "text": [
      "\n"
     ]
    }
   ],
   "source": [
    "# fig 1\n",
    "sns.set_context(\"paper\", font_scale=1.8, rc={\"lines.linewidth\": 1.8})\n",
    "\n",
    "j = 0\n",
    "for model in methods:\n",
    "    fig, axes = plt.subplots(nrows=2, ncols=2, figsize = (10, 8), sharex = True, sharey = True) \n",
    "    for n, i in enumerate(['seb', 'cons']):\n",
    "        dataxes = datas.get_group(i)\n",
    "        for m, j in enumerate(['Direct', 'Indirect']):\n",
    "            datax = dataxes[dataxes['Direct_Stance'] == j]\n",
    "            datax['Stance'] = datax['Stance'].map({'AGAINST' : 'against', 'FAVOR' : 'favor', 'NONE' : 'none'})\n",
    "            datax['%s'%(model)] = datax['%s'%(model)].map({'AGAINST' : 'against', 'FAVOR' : 'favor', 'NONE' : 'none'})\n",
    "            \n",
    "            sns.heatmap(confusion_matrix(datax['Stance'], datax['%s'%(model)]), ax = axes[n, m],\n",
    "                    cmap=\"Blues\", annot = True, fmt=\"d\", xticklabels = ['against', 'favor', 'none'],\n",
    "                       yticklabels = ['against', 'favor', 'none'])\n",
    "            axes[n, m].set_title(str.upper(i))\n",
    "            axes[n, m].set_ylabel(j)\n",
    "            if n == 0:\n",
    "                axes[n, m].set_xlabel('')\n",
    "            else:\n",
    "                axes[n, m].set_xlabel('Predicted Stance (DSSD)', labelpad = 20)\n",
    "#             for ax in fig.axes:\n",
    "#                 ax.tick_params(labelrotation=0)\n",
    "    plt.tight_layout()\n",
    "    plt.savefig(\"../plots/error_analysis_indirect_direct.pdf\")\n",
    "    plt.show()\n",
    "    print()"
   ]
  },
  {
   "cell_type": "code",
   "execution_count": 23,
   "metadata": {
    "collapsed": false
   },
   "outputs": [
    {
     "name": "stderr",
     "output_type": "stream",
     "text": [
      "/bigdata/sexism/sexist_code_icwsm20/icwsm20/lib/python3.5/site-packages/ipykernel_launcher.py:11: SettingWithCopyWarning: \n",
      "A value is trying to be set on a copy of a slice from a DataFrame.\n",
      "Try using .loc[row_indexer,col_indexer] = value instead\n",
      "\n",
      "See the caveats in the documentation: http://pandas.pydata.org/pandas-docs/stable/indexing.html#indexing-view-versus-copy\n",
      "  # This is added back by InteractiveShellApp.init_path()\n",
      "/bigdata/sexism/sexist_code_icwsm20/icwsm20/lib/python3.5/site-packages/ipykernel_launcher.py:12: SettingWithCopyWarning: \n",
      "A value is trying to be set on a copy of a slice from a DataFrame.\n",
      "Try using .loc[row_indexer,col_indexer] = value instead\n",
      "\n",
      "See the caveats in the documentation: http://pandas.pydata.org/pandas-docs/stable/indexing.html#indexing-view-versus-copy\n",
      "  if sys.path[0] == '':\n",
      "/bigdata/sexism/sexist_code_icwsm20/icwsm20/lib/python3.5/site-packages/ipykernel_launcher.py:11: SettingWithCopyWarning: \n",
      "A value is trying to be set on a copy of a slice from a DataFrame.\n",
      "Try using .loc[row_indexer,col_indexer] = value instead\n",
      "\n",
      "See the caveats in the documentation: http://pandas.pydata.org/pandas-docs/stable/indexing.html#indexing-view-versus-copy\n",
      "  # This is added back by InteractiveShellApp.init_path()\n",
      "/bigdata/sexism/sexist_code_icwsm20/icwsm20/lib/python3.5/site-packages/ipykernel_launcher.py:12: SettingWithCopyWarning: \n",
      "A value is trying to be set on a copy of a slice from a DataFrame.\n",
      "Try using .loc[row_indexer,col_indexer] = value instead\n",
      "\n",
      "See the caveats in the documentation: http://pandas.pydata.org/pandas-docs/stable/indexing.html#indexing-view-versus-copy\n",
      "  if sys.path[0] == '':\n"
     ]
    },
    {
     "data": {
      "image/png": "[encoded data removed]",
      "text/plain": [
       "<Figure size 720x288 with 4 Axes>"
      ]
     },
     "metadata": {
      "needs_background": "light"
     },
     "output_type": "display_data"
    },
    {
     "name": "stdout",
     "output_type": "stream",
     "text": [
      "\n"
     ]
    }
   ],
   "source": [
    "sns.set_context(\"paper\", font_scale=1.8, rc={\"lines.linewidth\": 1.8})\n",
    "datas = data[data['Target'] == 'Donald Trump']\n",
    "datas = datas.groupby('Dataset')\n",
    "methods = ['DSSD_%d' %run]\n",
    "j = 0\n",
    "for model in methods:\n",
    "    fig, axes = plt.subplots(nrows=1, ncols=2, figsize = (10, 4), sharey = True)\n",
    "    for n, i in enumerate(['seb', 'cons']):\n",
    "    #print(i) \n",
    "        datax = datas.get_group(i)\n",
    "        datax['Stance'] = datax['Stance'].map({'AGAINST' : 'against', 'FAVOR' : 'favor', 'NONE' : 'none'})\n",
    "        datax['%s'%(model)] = datax['%s'%(model)].map({'AGAINST' : 'against', 'FAVOR' : 'favor', 'NONE' : 'none'})\n",
    "        sns.heatmap(confusion_matrix(datax['Stance'], datax['%s'%(model)]),\n",
    "                    ax = axes[n], cmap=\"Blues\", annot = True, fmt=\"d\",\n",
    "                       xticklabels = ['against', 'favor', 'none'],\n",
    "                       yticklabels = ['against', 'favor', 'none'])\n",
    "        \n",
    "        axes[n].set_title(str.upper(i))\n",
    "        axes[n].set_ylabel('Stance')\n",
    "        axes[n].set_xlabel('Predicted Stance (DSSD)')\n",
    "        for ax in fig.axes:\n",
    "            ax.tick_params(labelrotation=0)\n",
    "\n",
    "    #sns.heatmap(pd.crosstab(datax['Stance'], datax['TD-LSTM_0']), ax = ax2, cmap=\"Blues\", annot = True)\n",
    "    #sns.heatmap(pd.crosstab(datax['TD-LSTM_0'], datax['DSSD_0']), ax = ax3, cmap=\"Blues\", annot = True)\n",
    "    plt.tight_layout()\n",
    "    plt.savefig(\"../plots/cons_seb_error_analysis.pdf\")\n",
    "    plt.show()\n",
    "    print()"
   ]
  },
  {
   "cell_type": "code",
   "execution_count": 24,
   "metadata": {
    "collapsed": false
   },
   "outputs": [],
   "source": [
    "# examples of tweets where indirect stance is not correctly detected\n",
    "cons = data[data['Dataset'] =='seb']\n",
    "cons = cons[cons['Target'] == \"Donald Trump\"]\n",
    "cons = cons[cons['DSSD_%d' %run] == 'NONE']\n",
    "# cons[['Tweet', 'Stance']].values[:10] # need tweets to run this"
   ]
  },
  {
   "cell_type": "code",
   "execution_count": null,
   "metadata": {
    "collapsed": true
   },
   "outputs": [],
   "source": []
  }
 ],
 "metadata": {
  "kernelspec": {
   "display_name": "icwsm20",
   "language": "python",
   "name": "icwsm20"
  },
  "language_info": {
   "codemirror_mode": {
    "name": "ipython",
    "version": 3
   },
   "file_extension": ".py",
   "mimetype": "text/x-python",
   "name": "python",
   "nbconvert_exporter": "python",
   "pygments_lexer": "ipython3",
   "version": "3.5.2"
  }
 },
 "nbformat": 4,
 "nbformat_minor": 0
}
